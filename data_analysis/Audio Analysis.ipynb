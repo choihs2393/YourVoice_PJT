{
 "cells": [
  {
   "cell_type": "code",
   "execution_count": 4,
   "metadata": {},
   "outputs": [
    {
     "name": "stdout",
     "output_type": "stream",
     "text": [
      "Requirement already satisfied: librosa in c:\\users\\babbling\\anaconda3\\lib\\site-packages (0.8.0)\n",
      "Requirement already satisfied: joblib>=0.14 in c:\\users\\babbling\\anaconda3\\lib\\site-packages (from librosa) (0.16.0)\n",
      "Requirement already satisfied: resampy>=0.2.2 in c:\\users\\babbling\\anaconda3\\lib\\site-packages (from librosa) (0.2.2)\n",
      "Requirement already satisfied: scikit-learn!=0.19.0,>=0.14.0 in c:\\users\\babbling\\anaconda3\\lib\\site-packages (from librosa) (0.21.3)\n",
      "Requirement already satisfied: numpy>=1.15.0 in c:\\users\\babbling\\anaconda3\\lib\\site-packages (from librosa) (1.17.2)\n",
      "Requirement already satisfied: numba>=0.43.0 in c:\\users\\babbling\\anaconda3\\lib\\site-packages (from librosa) (0.43.0)\n",
      "Requirement already satisfied: soundfile>=0.9.0 in c:\\users\\babbling\\anaconda3\\lib\\site-packages (from librosa) (0.10.3.post1)\n",
      "Requirement already satisfied: scipy>=1.0.0 in c:\\users\\babbling\\anaconda3\\lib\\site-packages (from librosa) (1.3.1)\n",
      "Requirement already satisfied: decorator>=3.0.0 in c:\\users\\babbling\\anaconda3\\lib\\site-packages (from librosa) (4.4.0)\n",
      "Requirement already satisfied: pooch>=1.0 in c:\\users\\babbling\\anaconda3\\lib\\site-packages (from librosa) (1.2.0)\n",
      "Requirement already satisfied: audioread>=2.0.0 in c:\\users\\babbling\\anaconda3\\lib\\site-packages (from librosa) (2.1.8)\n",
      "Requirement already satisfied: six>=1.3 in c:\\users\\babbling\\anaconda3\\lib\\site-packages (from resampy>=0.2.2->librosa) (1.12.0)\n",
      "Requirement already satisfied: llvmlite>=0.28.0dev0 in c:\\users\\babbling\\anaconda3\\lib\\site-packages (from numba>=0.43.0->librosa) (0.29.0)\n",
      "Requirement already satisfied: cffi>=1.0 in c:\\users\\babbling\\anaconda3\\lib\\site-packages (from soundfile>=0.9.0->librosa) (1.12.3)\n",
      "Requirement already satisfied: packaging in c:\\users\\babbling\\anaconda3\\lib\\site-packages (from pooch>=1.0->librosa) (19.2)\n",
      "Requirement already satisfied: requests in c:\\users\\babbling\\anaconda3\\lib\\site-packages (from pooch>=1.0->librosa) (2.22.0)\n",
      "Requirement already satisfied: appdirs in c:\\users\\babbling\\anaconda3\\lib\\site-packages (from pooch>=1.0->librosa) (1.4.4)\n",
      "Requirement already satisfied: pycparser in c:\\users\\babbling\\anaconda3\\lib\\site-packages (from cffi>=1.0->soundfile>=0.9.0->librosa) (2.19)\n",
      "Requirement already satisfied: pyparsing>=2.0.2 in c:\\users\\babbling\\anaconda3\\lib\\site-packages (from packaging->pooch>=1.0->librosa) (2.4.2)\n",
      "Requirement already satisfied: certifi>=2017.4.17 in c:\\users\\babbling\\anaconda3\\lib\\site-packages (from requests->pooch>=1.0->librosa) (2020.6.20)\n",
      "Requirement already satisfied: idna<2.9,>=2.5 in c:\\users\\babbling\\anaconda3\\lib\\site-packages (from requests->pooch>=1.0->librosa) (2.8)\n",
      "Requirement already satisfied: urllib3!=1.25.0,!=1.25.1,<1.26,>=1.21.1 in c:\\users\\babbling\\anaconda3\\lib\\site-packages (from requests->pooch>=1.0->librosa) (1.24.2)\n",
      "Requirement already satisfied: chardet<3.1.0,>=3.0.2 in c:\\users\\babbling\\anaconda3\\lib\\site-packages (from requests->pooch>=1.0->librosa) (3.0.4)\n"
     ]
    }
   ],
   "source": [
    "import sys\n",
    "!{sys.executable} -m pip install librosa"
   ]
  },
  {
   "cell_type": "code",
   "execution_count": 1,
   "metadata": {},
   "outputs": [],
   "source": [
    "import librosa\n",
    "import librosa.display\n",
    "import scipy.signal as signal\n",
    "import pandas as pd\n",
    "import numpy as np\n",
    "import json\n",
    "from glob import glob\n",
    "import matplotlib.pyplot as plt\n",
    "from scipy.io import wavfile  # wav 파일 읽기"
   ]
  },
  {
   "cell_type": "code",
   "execution_count": 2,
   "metadata": {},
   "outputs": [],
   "source": [
    "# <wav_fft>\n",
    "def wav_fft(file_name):\n",
    "    print(\"fft start\")\n",
    "    audio_sample, sampling_rate = librosa.load(file_name, sr = None)\n",
    "    fft_result = librosa.stft(audio_sample, n_fft=1024, hop_length=512, win_length = 1024, window=signal.hann).T\n",
    "    mag, phase = librosa.magphase(fft_result)\n",
    "    print(\"fft end\")\n",
    "    return mag"
   ]
  },
  {
   "cell_type": "code",
   "execution_count": 3,
   "metadata": {},
   "outputs": [],
   "source": [
    "# <normalize_function>\n",
    "min_level_db = -100\n",
    "def _normalize(S):\n",
    "    return np.clip((S-min_level_db)/(-min_level_db), 0, 1)"
   ]
  },
  {
   "cell_type": "code",
   "execution_count": 8,
   "metadata": {},
   "outputs": [
    {
     "name": "stdout",
     "output_type": "stream",
     "text": [
      "D:\\voice_samples\\note_sample.wav\n"
     ]
    }
   ],
   "source": [
    "# <wav files into DataFrame>\n",
    "files = glob(r'D:\\voice_samples\\*.wav')\n",
    "print(files[0])"
   ]
  },
  {
   "cell_type": "code",
   "execution_count": 10,
   "metadata": {
    "scrolled": false
   },
   "outputs": [
    {
     "name": "stdout",
     "output_type": "stream",
     "text": [
      "[1045.1793 1045.9908 1045.93   1045.5599 1046.6698 1053.3004 1182.7507\n",
      " 1180.0752 1178.2399 1177.2914 1177.394  1177.8969 1178.126  1177.5576\n",
      " 1178.626  1185.8601 1310.8273 1313.4452 1315.9108 1317.0596 1317.4537\n",
      " 1316.5874 1316.354  1316.144  1317.6215 1370.6255 1386.7401 1391.5002\n",
      " 1392.7048 1390.6982 1391.2158 1391.1324 1390.9567 1390.7435 1391.3037\n",
      " 1395.0308 1516.6705 1573.0118 1569.5934 1568.1757 1568.0911 1568.2434\n",
      " 1567.8778 1567.8579 1567.5435 1567.5573 1570.0387 1593.2518 1607.5854\n",
      " 1709.1636 1762.1837 1758.8254 1758.2816 1757.9521 1758.2408 1758.5947\n",
      " 1758.4745 1758.3784 1758.3507 1758.6683 1759.2286 1749.2112 1807.204\n",
      " 1884.777  1978.8282 1971.0701 1970.54   1972.0466 1972.4957 1971.6636\n",
      " 1971.5872 1971.7515 1969.5326 1969.6974 2014.7512 2032.3428 2097.541\n",
      " 2092.0063 2089.4795 2090.6404 2089.4653 2090.1013 2090.079  2089.6836\n",
      " 2089.252  2086.5166 2106.9553 2307.8132 3291.5894 3288.0498 3289.0798\n",
      " 3289.3384 3290.178  3290.0269 3290.2576 3300.6934 3294.1267 3594.48\n",
      " 3595.0322 3595.6682 3607.0322 3599.642  3598.4707 3599.7048 3599.1797\n",
      " 3798.0884 3795.227  3794.1023 3796.1123 3798.1814 3797.0654 3797.036\n",
      " 3796.8486 3797.8352 3800.3933 4816.2197 4815.774  4816.642  4819.3237\n",
      " 4818.3115 5195.3193 5195.005  5194.923  5383.4126 5382.908  5380.0244\n",
      " 5379.775  5381.8174 5381.0386 5380.305  5543.506  5544.492  5545.7725\n",
      " 5544.96   5544.491  5544.1113 5544.2295 5545.4604 5549.791  5591.7754\n",
      " 5604.001  5605.133  5604.8037 5605.9443 5606.468  5606.399  5606.0474\n",
      " 5606.571  5607.0664 5591.282  5653.54   5710.837  5741.5024 5777.199\n",
      " 5777.018  5776.0635 5775.282  5774.9897 5776.269  5775.839  5770.9795\n",
      " 5791.293  5780.916  5783.8457 5818.187  5935.278  5932.2515 5933.4824\n",
      " 5934.248  5934.073  5934.0234 5933.9277 5933.4526 5934.068  5936.138\n",
      " 5944.0815 6131.7705 6134.7    6225.4897 6285.2837 6343.089  6356.2803\n",
      " 6364.4    6369.2617 6370.4917 6369.8047 6370.514  6370.931  6373.029\n",
      " 6371.496  6658.6675 6741.031  6803.7144 6804.7715 7061.9683 7054.9116\n",
      " 7048.2153 7044.7754 7047.1606 7048.529  7048.581  7050.273  7049.962\n",
      " 7058.3247 7073.936  7248.61   7249.3413 7247.3247 7241.4424 7244.6035\n",
      " 7245.403  7243.7856 7234.1777 7271.328  7255.784  7258.1646 7361.994\n",
      " 7434.039  7436.3203 7433.4863 7430.02   7427.773  7430.9966 7431.196\n",
      " 7429.937  7431.0435 7470.6514 7627.825  7626.1694 7621.939  7620.042\n",
      " 7618.934  7618.6885 7618.927  7618.875  7619.499  7639.195  7668.2075\n",
      " 7666.97  ]\n"
     ]
    }
   ],
   "source": [
    "sampling_rate = 48000\n",
    "y, sr = librosa.load(files[0], sr=sampling_rate)\n",
    "pitches, magnitudes = librosa.core.piptrack(y=y, sr=sr, fmax=8000, fmin=30)\n",
    "\n",
    "pitch_lst = pitches[np.nonzero(pitches)]\n",
    "highest_pitch = int(max(pitch_lst))\n",
    "lowest_pitch = int(min(pitch_lst))\n",
    "print(pitch_lst)"
   ]
  },
  {
   "cell_type": "code",
   "execution_count": null,
   "metadata": {},
   "outputs": [],
   "source": []
  }
 ],
 "metadata": {
  "kernelspec": {
   "display_name": "Python 3",
   "language": "python",
   "name": "python3"
  },
  "language_info": {
   "codemirror_mode": {
    "name": "ipython",
    "version": 3
   },
   "file_extension": ".py",
   "mimetype": "text/x-python",
   "name": "python",
   "nbconvert_exporter": "python",
   "pygments_lexer": "ipython3",
   "version": "3.8.3"
  }
 },
 "nbformat": 4,
 "nbformat_minor": 2
}
